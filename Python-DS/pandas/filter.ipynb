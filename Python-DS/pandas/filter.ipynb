{
 "cells": [
  {
   "cell_type": "markdown",
   "metadata": {},
   "source": [
    "---\n",
    "title: \"Pandas Filtering\"\n",
    "date: 2020-04-03T20:15:47+09:00\n",
    "tags:\n",
    "  - \"Data Transformation\"\n",
    "  - \"Python\"\n",
    "  - \"filter\"\n",
    "  - \"데이터 전처리\"\n",
    "categories:\n",
    "  - \"Data Transformation\"\n",
    "  - \"Python\"\n",
    "  - \"데이터 전처리\"\n",
    "  - \"Pandas\"\n",
    "menu: \n",
    "  python:\n",
    "    name: Pandas sort_values()\n",
    "---\n",
    "\n",
    "## Overview\n",
    "\n",
    "필터링은 특정 조건식을 만족하는 행을 따로 추출하는 개념이다. 특정 행의 값에 조건식 `True/False`을 판별하여 값을 추출하는 방법이다. 이 때, 비교 연산자 또는 조건식 `(>, <, ==, ...)`을 적용하면 행을 추출할 수 있다. \n",
    "\n",
    "우선 데이터부터 확인한다. 아래 소스코드를 복사 붙여넣기 하면 데이터를 확인할 수 있다. "
   ]
  },
  {
   "cell_type": "code",
   "execution_count": 1,
   "metadata": {},
   "outputs": [
    {
     "name": "stdout",
     "output_type": "stream",
     "text": [
      "          theater_name                  movie_title ticket_type  \\\n",
      "0     Sumdance Cinemas                Harry Plotter      senior   \n",
      "1  The Empirical House  10 Things I Hate About Unix       child   \n",
      "2  The Empirical House         The Seaborn Identity       adult   \n",
      "3     Sumdance Cinemas  10 Things I Hate About Unix       adult   \n",
      "4  The Empirical House                Mamma Median!      senior   \n",
      "\n",
      "   ticket_quantity  \n",
      "0                4  \n",
      "1                2  \n",
      "2                4  \n",
      "3                2  \n",
      "4                2  \n"
     ]
    }
   ],
   "source": [
    "import pandas as pd\n",
    "\n",
    "url = 'https://github.com/chloevan/datasets/raw/master/entertainment/movie_ticket_sales.xlsx'\n",
    "sales = pd.read_excel(url)\n",
    "print(sales.head())"
   ]
  },
  {
   "cell_type": "markdown",
   "metadata": {},
   "source": [
    "## Step 1. Accessing a Single Column\n",
    "\n",
    "우선 조건식을 적용하기 전, Column에 접근해야 가능하다. 여러 방법이 있지만, 아래와 같이 접근해본다. \n",
    "\n",
    "```\n",
    "data['name_of_column']\n",
    "```\n",
    "\n",
    "여기에서는 `ticket_type` Column에 접근해본다. "
   ]
  },
  {
   "cell_type": "code",
   "execution_count": 3,
   "metadata": {},
   "outputs": [
    {
     "name": "stdout",
     "output_type": "stream",
     "text": [
      "0    senior\n",
      "1     child\n",
      "2     adult\n",
      "3     adult\n",
      "4    senior\n",
      "Name: ticket_type, dtype: object\n"
     ]
    }
   ],
   "source": [
    "print(sales['ticket_type'].head())"
   ]
  },
  {
   "cell_type": "markdown",
   "metadata": {},
   "source": [
    "위 값을 통해서 `senior`, `child`, `adult`, ..., 순으로 된 것을 확인 할 수 있다. \n",
    "\n",
    "여기에서 비교연산자를 통해 참/거짓을 판별해야 한다. 만약에, 'senior'만 가져오도록 한다면, `child` & `adult` 값은 `False`로 반환이 될 것이다. 확인해보자. \n",
    "\n",
    "## Step 2. Comparing Operators\n",
    "\n",
    "주로 사용되는 비교연산자는 아래와 같다. \n",
    "\n",
    "- `==` (equal to)\n",
    "- `!=` (not equal to)\n",
    "- `<`  (less than)\n",
    "- `>`  (greater than)\n",
    "- `<=` (less than or equal to)\n",
    "- `>=` (greator or equal to)\n",
    "\n",
    "`isin()` 함수를 적용하면 특정 값을 가진 행들을 따로 추출할 수도 있다. 이 함수를 사용하면, 코드가 좀 더 간결해지도록 작성할 수 있다. "
   ]
  },
  {
   "cell_type": "code",
   "execution_count": 8,
   "metadata": {},
   "outputs": [
    {
     "name": "stdout",
     "output_type": "stream",
     "text": [
      "0     True\n",
      "1    False\n",
      "2    False\n",
      "3    False\n",
      "4     True\n",
      "Name: ticket_type, dtype: bool\n"
     ]
    }
   ],
   "source": [
    "true_false = sales['ticket_type'] == \"senior\"\n",
    "print(true_false.head())"
   ]
  },
  {
   "cell_type": "markdown",
   "metadata": {},
   "source": [
    "위 값과 비교해보면 `child`, `adult`, `adult` 값이 모두 `False`로 반환된 것을 확인할 수 있다. \n",
    "\n",
    "## Step 3. Filtering\n",
    "\n",
    "`Column`에 대한 접근 및 `비교연산자`를 통해서, 특정 조건식에 맞는 데이터를 추출해본다. 이 때, 데이터셋을 한번 더 입력하는 번거로움만 거치면 문제가 되지 않는다. 소스코드를 통해 빠르게 구현해보자. 역시나, 크게 어려운 것은 아니다. \n",
    "\n",
    "조건은 `ticket_type`에서 `senior`에 해당하는 행만 추출해본다. "
   ]
  },
  {
   "cell_type": "code",
   "execution_count": 9,
   "metadata": {},
   "outputs": [
    {
     "name": "stdout",
     "output_type": "stream",
     "text": [
      "                      theater_name           movie_title ticket_type  \\\n",
      "0                 Sumdance Cinemas         Harry Plotter      senior   \n",
      "1              The Empirical House         Mamma Median!      senior   \n",
      "2              The Empirical House         Mamma Median!      senior   \n",
      "3                        The Frame         Harry Plotter      senior   \n",
      "4  Richie's Famous Minimax Theatre  The Seaborn Identity      senior   \n",
      "\n",
      "   ticket_quantity  \n",
      "0                4  \n",
      "1                2  \n",
      "2                2  \n",
      "3                2  \n",
      "4                2  \n"
     ]
    }
   ],
   "source": [
    "senior_data = sales[sales['ticket_type'] == \"senior\"].reset_index(drop = True)\n",
    "print(senior_data.head())"
   ]
  },
  {
   "cell_type": "markdown",
   "metadata": {},
   "source": [
    "## Step 4. isin() 활용\n",
    "\n",
    "여기에서 문제가 생겼다. `senior`와 함께, `adult`의 값도 같이 추출해달라는 요청이 들어왔다. 물론 각각의 데이터를 개별적으로 추출하는 것도 하나의 방법이 될 수 있지만, 소스코드가 길어질 것이 예상이 된다. 물론 실제로도 그렇다. 한번 해보겠다. "
   ]
  },
  {
   "cell_type": "code",
   "execution_count": 10,
   "metadata": {},
   "outputs": [
    {
     "name": "stdout",
     "output_type": "stream",
     "text": [
      "          theater_name                  movie_title ticket_type  \\\n",
      "0     Sumdance Cinemas                Harry Plotter      senior   \n",
      "1  The Empirical House         The Seaborn Identity       adult   \n",
      "2     Sumdance Cinemas  10 Things I Hate About Unix       adult   \n",
      "3  The Empirical House                Mamma Median!      senior   \n",
      "4     Sumdance Cinemas                Harry Plotter       adult   \n",
      "\n",
      "   ticket_quantity  \n",
      "0                4  \n",
      "1                4  \n",
      "2                2  \n",
      "3                2  \n",
      "4                2  \n"
     ]
    }
   ],
   "source": [
    "seniors = sales['ticket_type'] == \"senior\"\n",
    "adults = sales['ticket_type'] == \"adult\"\n",
    "new_data = sales[seniors | adults].reset_index(drop = True)\n",
    "print(new_data.head())"
   ]
  },
  {
   "cell_type": "markdown",
   "metadata": {},
   "source": [
    "이번에는 `isin()`을 활용해보자. "
   ]
  },
  {
   "cell_type": "code",
   "execution_count": 12,
   "metadata": {},
   "outputs": [
    {
     "name": "stdout",
     "output_type": "stream",
     "text": [
      "          theater_name                  movie_title ticket_type  \\\n",
      "0     Sumdance Cinemas                Harry Plotter      senior   \n",
      "1  The Empirical House         The Seaborn Identity       adult   \n",
      "2     Sumdance Cinemas  10 Things I Hate About Unix       adult   \n",
      "3  The Empirical House                Mamma Median!      senior   \n",
      "4     Sumdance Cinemas                Harry Plotter       adult   \n",
      "\n",
      "   ticket_quantity  \n",
      "0                4  \n",
      "1                4  \n",
      "2                2  \n",
      "3                2  \n",
      "4                2  \n"
     ]
    }
   ],
   "source": [
    "new_data = sales[sales['ticket_type'].isin(['senior', 'adult'])].reset_index(drop = True)\n",
    "print(new_data.head())"
   ]
  },
  {
   "cell_type": "markdown",
   "metadata": {},
   "source": [
    "결과값은 똑같지만, 코드 1줄이 줄어든 것을 확인할 수 있다. 문제는, 전체 값이 100개 중에서, 30개만 추출할 때를 생각해보자, `isin()` 활용하지 않는다면, 반복적인 불필요한 코드만 계속 늘어날 것을 예상할 수 있다. \n",
    "\n",
    "\n",
    "## Conclusion\n",
    "\n",
    "지금까지, Pandas를 활용한 Filtering의 방법 및 접근에 대해 배웠다. 물론 실무에서는 이것보다도 훨씬 더 복잡한 형태로 작업이 되지만, 기본적인 원리는 똑같다. `비교연산자`를 통한 `참/거짓`의 활용, 그리고 `isin()` 함수의 활용을 통해 `Filtering` 작업을 수행하며. 복잡한 문자열에 `정규표현식(regular expression)`을 활용하기도 한다. 그러나 마찬가지로, `참/거짓`을 활용한 비교연산자를 통한 추출방법임에는 변함이 없기 때문에, 다양하게 연습을 해본다. "
   ]
  }
 ],
 "metadata": {
  "kernelspec": {
   "display_name": "Python 3",
   "language": "python",
   "name": "python3"
  },
  "language_info": {
   "codemirror_mode": {
    "name": "ipython",
    "version": 3
   },
   "file_extension": ".py",
   "mimetype": "text/x-python",
   "name": "python",
   "nbconvert_exporter": "python",
   "pygments_lexer": "ipython3",
   "version": "3.7.7"
  }
 },
 "nbformat": 4,
 "nbformat_minor": 4
}
