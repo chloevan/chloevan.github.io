{
 "nbformat": 4,
 "nbformat_minor": 2,
 "metadata": {
  "language_info": {
   "name": "python",
   "codemirror_mode": {
    "name": "ipython",
    "version": 3
   }
  },
  "orig_nbformat": 2,
  "file_extension": ".py",
  "mimetype": "text/x-python",
  "name": "python",
  "npconvert_exporter": "python",
  "pygments_lexer": "ipython3",
  "version": 3
 },
 "cells": [
  {
   "cell_type": "markdown",
   "metadata": {},
   "source": [
    "---\n",
    "title: \"Pandas sort_values()\"\n",
    "date: 2020-04-03T20:15:47+09:00\n",
    "tags:\n",
    "  - \"Data Transformation\"\n",
    "  - \"Python\"\n",
    "  - \"sort_values\"\n",
    "  - \"데이터 전처리\"\n",
    "categories:\n",
    "  - \"Data Transformation\"\n",
    "  - \"Python\"\n",
    "  - \"데이터 전처리\"\n",
    "  - \"Pandas\"\n",
    "menu: \n",
    "  python:\n",
    "    name: Pandas sort_values()\n",
    "---\n",
    "\n",
    "## I. Overview\n",
    "\n",
    "`sort_values()` 함수는 일종의 데이터의 정렬과 연관이 있다. 어려운 내용은 아니기 때문에 빠르게 소스 코드 구현 및 확인 하도록 한다. \n",
    "\n",
    "## II. Sample Tutorial\n",
    "\n",
    "엑셀로 된 ticket_sales 데이터를 추출하도록 한다. "
   ]
  },
  {
   "cell_type": "code",
   "execution_count": null,
   "metadata": {},
   "outputs": [],
   "source": [
    "import pandas as pd\n",
    "\n",
    "url = 'https://github.com/chloevan/datasets/raw/master/entertainment/movie_ticket_sales.xlsx'\n",
    "sales = pd.read_excel(url)\n",
    "print(sales.head())"
   ]
  },
  {
   "cell_type": "code",
   "execution_count": null,
   "metadata": {},
   "outputs": [],
   "source": []
  }
 ]
}