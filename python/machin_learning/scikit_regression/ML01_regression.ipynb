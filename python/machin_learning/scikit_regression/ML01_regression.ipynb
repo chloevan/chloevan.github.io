{
 "cells": [
  {
   "cell_type": "markdown",
   "metadata": {},
   "source": [
    "---\n",
    "title: \"Machine Learning Tutorial 01 - Regression\"\n",
    "date: 2020-03-19T18:11:47+09:00\n",
    "tags:\n",
    "  - \"Machine Learning\"\n",
    "  - \"Python\"\n",
    "  - \"Regression\"\n",
    "  - \"회귀모형\"\n",
    "  - \"데이터 전처리\"\n",
    "categories:\n",
    "  - \"Machine Learning\"\n",
    "  - \"Python\"\n",
    "  - \"머신러닝\"\n",
    "menu: \n",
    "  main:\n",
    "    name: Machine Learning Tutorial 01 - Regression\n",
    "---\n",
    "\n",
    "## 지도 학습 VS 비지도 학습\n",
    "\n",
    "머신러닝은 크게 두 가지 유형으로 분류한다. 우선 아래 표를 보자. \n",
    "\n",
    "|          구분          |               지도학습<br>(Supervised Learning)              |                       비지도 학습<br>(Unsupervised Learning)                       |\n",
    "|:----------------------:|:------------------------------------------------------------:|:----------------------------------------------------------------------------------:|\n",
    "| 알고리즘<br>(분석모형) | 회귀분석<br>분류모형                                         | 군집분석                                                                           |\n",
    "|          특징          | 정답을 알고 있는 상태에서 학습<br>모형 평가 방법이 다양한 편 | 정답이 없는 상태에서 서로 비슷한 데이터를 찾아서 그룹화<br>모형 평가 방법이 제한적 |\n",
    "\n",
    "<center>출처: 오승환 (2019). 파이썬 머신러닝 판다스 데이터 분석 (p. 285)</center>"
   ]
  },
  {
   "cell_type": "markdown",
   "metadata": {},
   "source": [
    "`지도학습(Supervised Learning)`은 종속변수(Dependent Variable) 선정이 매우 중요하며. 종속변수 선정과 함께 데이터 분석도 같이 병행이 된다. 그러나 `비지도학습(Unsupervised Learning)`은 데이터가 많은데, 어떻게 분류하면 좋을지 모를 때 서로 비슷한 특징끼리 결합 및 그룹화 하는 것을 말한다. \n",
    "\n",
    "## 회귀모형 예제\n",
    "\n",
    "우선 회귀모형 모형부터 만들자. 아래 코드를 그대로 실행하면 될 것이다. 만약 `파이썬(Python)` 설치가 필요한 사람은 [Tensorflow 2.0 Installation](https://chloevan.github.io/python/settings01_installation/)에서 설치 방법을 따라 설치를 진행하기를 바란다. "
   ]
  },
  {
   "cell_type": "code",
   "execution_count": 16,
   "metadata": {},
   "outputs": [],
   "source": [
    "## 기본 라이브러리 불러오기\n",
    "import pandas as pd  \n",
    "import numpy as np  \n",
    "import matplotlib.pyplot as plt  \n",
    "import seaborn as sns \n",
    "from sklearn.model_selection import train_test_split \n",
    "from sklearn.linear_model import LinearRegression\n",
    "from sklearn import metrics"
   ]
  },
  {
   "cell_type": "markdown",
   "metadata": {},
   "source": [
    "```\n",
    "---------------------------------------------------------------------------\n",
    "ModuleNotFoundError                       Traceback (most recent call last)\n",
    "<ipython-input-1-5e3e002ab9bf> in <module>\n",
    "      2 import pandas as pd\n",
    "      3 import numpy as np\n",
    "----> 4 import matplotlib.pyplot as plt\n",
    "      5 import seaborn as sns\n",
    "      6 from sklearn.model_selection import train_test_split\n",
    "\n",
    "ModuleNotFoundError: No module named 'matplotlib'\n",
    "\n",
    "```\n",
    "\n",
    "### No Module Names 'name_of_library'\n",
    "\n",
    "가끔 이런 모듈이 없다고 나올 때가 있다. 이해하기 어려운 것은 아니다. 가장 좋은 것은 언제나 에러 메시지 전체를 복사해서 구글에서 검색을 한 뒤 해결책을 빠르게 찾는 것이 좋다. \n",
    "\n",
    "위 에러는 `matplotlib` 모듈이 없다는 뜻이다. \n",
    "\n",
    "그럼 설치를 해보자. 어떻게? 자세한 내용은 공식문서를 참고한다. [matplotlib](https://matplotlib.org/users/installing.html)\n",
    "간단한 설치방법은 아래와 같다. \n",
    "\n",
    "터미널에서 아래와 같이 입력한다. 참고로 MacOS / 필자는 pip3로 설치할 예정이다. [윈도우 아나콘다 설치 버전](https://anaconda.org/conda-forge/matplotlib)\n",
    "\n",
    "```{terminal}\n",
    "$ python3 -m pip install -U pip\n",
    "$ python3 -m pip install -U matplotlib\n",
    "```\n",
    "\n",
    "`matplotlib`와 마찬가지로 `seaborn` 그리고 `scikit-learn` 모듈도 같이 위와 같은 형태로 설치를 하면 된다. \n",
    "\n",
    "### Sample Tutorial \n",
    "\n",
    "전체 소스코드를 실행한 뒤, 하나씩 간단하게 설명을 진행하도록 한다. "
   ]
  },
  {
   "cell_type": "code",
   "execution_count": 19,
   "metadata": {},
   "outputs": [
    {
     "name": "stdout",
     "output_type": "stream",
     "text": [
      "     STA      Date Precip  WindGustSpd    MaxTemp    MinTemp   MeanTemp  \\\n",
      "0  10001  1942-7-1  1.016          NaN  25.555556  22.222222  23.888889   \n",
      "1  10001  1942-7-2      0          NaN  28.888889  21.666667  25.555556   \n",
      "2  10001  1942-7-3   2.54          NaN  26.111111  22.222222  24.444444   \n",
      "3  10001  1942-7-4   2.54          NaN  26.666667  22.222222  24.444444   \n",
      "4  10001  1942-7-5      0          NaN  26.666667  21.666667  24.444444   \n",
      "\n",
      "  Snowfall PoorWeather  YR  ...  FB  FTI ITH  PGT  TSHDSBRSGF  SD3  RHX  RHN  \\\n",
      "0        0         NaN  42  ... NaN  NaN NaN  NaN         NaN  NaN  NaN  NaN   \n",
      "1        0         NaN  42  ... NaN  NaN NaN  NaN         NaN  NaN  NaN  NaN   \n",
      "2        0         NaN  42  ... NaN  NaN NaN  NaN         NaN  NaN  NaN  NaN   \n",
      "3        0         NaN  42  ... NaN  NaN NaN  NaN         NaN  NaN  NaN  NaN   \n",
      "4        0         NaN  42  ... NaN  NaN NaN  NaN         NaN  NaN  NaN  NaN   \n",
      "\n",
      "  RVG  WTE  \n",
      "0 NaN  NaN  \n",
      "1 NaN  NaN  \n",
      "2 NaN  NaN  \n",
      "3 NaN  NaN  \n",
      "4 NaN  NaN  \n",
      "\n",
      "[5 rows x 31 columns]\n"
     ]
    },
    {
     "name": "stderr",
     "output_type": "stream",
     "text": [
      "/Users/jihoonjung/Library/Python/3.7/lib/python/site-packages/IPython/core/interactiveshell.py:3063: DtypeWarning: Columns (7,8,18,25) have mixed types.Specify dtype option on import or set low_memory=False.\n",
      "  interactivity=interactivity, compiler=compiler, result=result)\n"
     ]
    }
   ],
   "source": [
    "import io\n",
    "import requests\n",
    "import pprint\n",
    "\n",
    "url = \"https://raw.githubusercontent.com/chloevan/datasets/master/weather/Weather.csv\"\n",
    "url = requests.get(url).content\n",
    "weather_df = pd.read_csv(io.StringIO(url.decode('utf-8')))\n",
    "\n",
    "pprint.pprint(weather_df.head())"
   ]
  },
  {
   "cell_type": "code",
   "execution_count": 22,
   "metadata": {},
   "outputs": [
    {
     "name": "stdout",
     "output_type": "stream",
     "text": [
      "                 STA  WindGustSpd        MaxTemp        MinTemp  \\\n",
      "count  119040.000000   532.000000  119040.000000  119040.000000   \n",
      "mean    29659.435795    37.774534      27.045111      17.789511   \n",
      "std     20953.209402    10.297808       8.717817       8.334572   \n",
      "min     10001.000000    18.520000     -33.333333     -38.333333   \n",
      "25%     11801.000000    29.632000      25.555556      15.000000   \n",
      "50%     22508.000000    37.040000      29.444444      21.111111   \n",
      "75%     33501.000000    43.059000      31.666667      23.333333   \n",
      "max     82506.000000    75.932000      50.000000      34.444444   \n",
      "\n",
      "            MeanTemp             YR             MO             DA          DR  \\\n",
      "count  119040.000000  119040.000000  119040.000000  119040.000000  533.000000   \n",
      "mean       22.411631      43.805284       6.726016      15.797530   26.998124   \n",
      "std         8.297982       1.136718       3.425561       8.794541   15.221732   \n",
      "min       -35.555556      40.000000       1.000000       1.000000    2.000000   \n",
      "25%        20.555556      43.000000       4.000000       8.000000   11.000000   \n",
      "50%        25.555556      44.000000       7.000000      16.000000   32.000000   \n",
      "75%        27.222222      45.000000      10.000000      23.000000   34.000000   \n",
      "max        40.000000      45.000000      12.000000      31.000000   78.000000   \n",
      "\n",
      "              SPD  ...   FT   FB  FTI  ITH         PGT  SD3  RHX  RHN  RVG  \\\n",
      "count  532.000000  ...  0.0  0.0  0.0  0.0  525.000000  0.0  0.0  0.0  0.0   \n",
      "mean    20.396617  ...  NaN  NaN  NaN  NaN   12.085333  NaN  NaN  NaN  NaN   \n",
      "std      5.560371  ...  NaN  NaN  NaN  NaN    5.731328  NaN  NaN  NaN  NaN   \n",
      "min     10.000000  ...  NaN  NaN  NaN  NaN    0.000000  NaN  NaN  NaN  NaN   \n",
      "25%     16.000000  ...  NaN  NaN  NaN  NaN    8.500000  NaN  NaN  NaN  NaN   \n",
      "50%     20.000000  ...  NaN  NaN  NaN  NaN   11.600000  NaN  NaN  NaN  NaN   \n",
      "75%     23.250000  ...  NaN  NaN  NaN  NaN   15.000000  NaN  NaN  NaN  NaN   \n",
      "max     41.000000  ...  NaN  NaN  NaN  NaN   23.900000  NaN  NaN  NaN  NaN   \n",
      "\n",
      "       WTE  \n",
      "count  0.0  \n",
      "mean   NaN  \n",
      "std    NaN  \n",
      "min    NaN  \n",
      "25%    NaN  \n",
      "50%    NaN  \n",
      "75%    NaN  \n",
      "max    NaN  \n",
      "\n",
      "[8 rows x 24 columns]\n"
     ]
    }
   ],
   "source": [
    "pprint.pprint(weather_df.describe())"
   ]
  },
  {
   "cell_type": "code",
   "execution_count": 23,
   "metadata": {},
   "outputs": [
    {
     "name": "stdout",
     "output_type": "stream",
     "text": [
      "array([10.66185201])\n",
      "array([[0.92033997]])\n",
      "         실제값        예측값\n",
      "0  28.888889  33.670351\n",
      "1  31.111111  30.091251\n",
      "2  27.222222  26.512151\n",
      "3  28.888889  31.113851\n",
      "4  23.333333  15.774852\n"
     ]
    }
   ],
   "source": [
    "X = weather_df['MinTemp'].values.reshape(-1,1)\n",
    "y = weather_df['MaxTemp'].values.reshape(-1,1)\n",
    "\n",
    "# 데이터 셋 분리 \n",
    "X_train, X_test, y_train, y_test = train_test_split(X, y, test_size=0.2, random_state=0)\n",
    "\n",
    "# 모형 개발 선언\n",
    "regressor = LinearRegression()  \n",
    "regressor.fit(X_train, y_train) # 알고리즘 트레이닝\n",
    "\n",
    "# intercept: 상수\n",
    "pprint.pprint(regressor.intercept_)\n",
    "# slope: 기울기\n",
    "pprint.pprint(regressor.coef_) \n",
    "\n",
    "# 예측\n",
    "y_pred = regressor.predict(X_test)\n",
    "\n",
    "# 데이터 셋 비교\n",
    "pred_df = pd.DataFrame({'실제값': y_test.flatten(), '예측값': y_pred.flatten()})\n",
    "pprint.pprint(pred_df.head())"
   ]
  },
  {
   "cell_type": "code",
   "execution_count": 24,
   "metadata": {},
   "outputs": [
    {
     "data": {
      "image/png": "[encoded data removed]",
      "text/plain": [
       "<Figure size 432x288 with 1 Axes>"
      ]
     },
     "metadata": {
      "needs_background": "light"
     },
     "output_type": "display_data"
    }
   ],
   "source": [
    "# 테스트 데이터와 예측값의 기울기 비교\n",
    "plt.scatter(X_test, y_test,  color='gray')\n",
    "plt.plot(X_test, y_pred, color='red', linewidth=2)\n",
    "plt.show()"
   ]
  },
  {
   "cell_type": "code",
   "execution_count": 25,
   "metadata": {},
   "outputs": [
    {
     "name": "stdout",
     "output_type": "stream",
     "text": [
      "MAE: 3.19932917837853\n",
      "MSE: 17.631568097568447\n",
      "RMSE: 4.198996082109204\n"
     ]
    }
   ],
   "source": [
    "# 모형 성능\n",
    "print('MAE:', metrics.mean_absolute_error(y_test, y_pred))  \n",
    "print('MSE:', metrics.mean_squared_error(y_test, y_pred))  \n",
    "print('RMSE:', np.sqrt(metrics.mean_squared_error(y_test, y_pred)))"
   ]
  },
  {
   "cell_type": "markdown",
   "metadata": {},
   "source": [
    "... Will continue ... Happy To Code\n",
    "\n",
    "End of Document"
   ]
  }
 ],
 "metadata": {
  "kernelspec": {
   "display_name": "Python 3",
   "language": "python",
   "name": "python3"
  },
  "language_info": {
   "codemirror_mode": {
    "name": "ipython",
    "version": 3
   },
   "file_extension": ".py",
   "mimetype": "text/x-python",
   "name": "python",
   "nbconvert_exporter": "python",
   "pygments_lexer": "ipython3",
   "version": "3.7.7"
  }
 },
 "nbformat": 4,
 "nbformat_minor": 4
}
