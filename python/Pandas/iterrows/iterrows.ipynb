{
 "nbformat": 4,
 "nbformat_minor": 2,
 "metadata": {
  "language_info": {
   "name": "python",
   "codemirror_mode": {
    "name": "ipython",
    "version": 3
   },
   "version": "3.8.1-final"
  },
  "orig_nbformat": 2,
  "file_extension": ".py",
  "mimetype": "text/x-python",
  "name": "python",
  "npconvert_exporter": "python",
  "pygments_lexer": "ipython3",
  "version": 3,
  "kernelspec": {
   "name": "python3",
   "display_name": "Python 3"
  }
 },
 "cells": [
  {
   "cell_type": "markdown",
   "metadata": {},
   "source": [
    "## Iterrows의 개념\n",
    "\n",
    "데이터 전처리를 진행할 때, 데이터프레임에서 행에 반복적으로 접근을 하면서 값을 추출하거나 또는 그 값을 조작하는 일이 발생한다. 예를 들면, 특정 컬럼 A의 값에서 대문자 A를 찾아내 소문자 b로 변경한다고 가정해보자. 이런 경우에는 언제나 For-loop를 통한 반복문 코드 작성을 만들어야 한다. \n",
    "\n",
    "이럴 때 보다 효율적으로 접근하는 방법 중 하나가 `iterrows()`를 사용하는 경우이다.  \n"
   ]
  },
  {
   "cell_type": "code",
   "execution_count": 2,
   "metadata": {},
   "outputs": [
    {
     "name": "stdout",
     "output_type": "stream",
     "text": "Team League  Year   RS   RA   W   OBP   SLG    BA  Playoffs  RankSeason  \\\n0  ARI     NL  2012  734  688  81  0.33  0.42  0.26         0         NaN   \n1  ATL     NL  2012  700  600  94  0.32  0.39  0.25         1         4.0   \n2  BAL     AL  2012  712  705  93  0.31  0.42  0.25         1         5.0   \n3  BOS     AL  2012  734  806  69  0.32  0.41  0.26         0         NaN   \n4  CHC     NL  2012  613  759  61  0.30  0.38  0.24         0         NaN   \n\n   RankPlayoffs    G  OOBP  OSLG  \n0           NaN  162  0.32  0.41  \n1           5.0  162  0.31  0.38  \n2           4.0  162  0.32  0.40  \n3           NaN  162  0.33  0.43  \n4           NaN  162  0.34  0.42  \n"
    }
   ],
   "source": [
    "import pandas as pd\n",
    "import io\n",
    "import requests\n",
    "import pprint\n",
    "\n",
    "url = 'https://raw.githubusercontent.com/chloevan/datasets/master/sports/baseball_stats.csv'\n",
    "url=requests.get(url).content\n",
    "baseball_stats = pd.read_csv(io.StringIO(url.decode('utf-8')))\n",
    "\n",
    "pprint.pprint(baseball_stats.head())"
   ]
  },
  {
   "cell_type": "markdown",
   "metadata": {},
   "source": [
    "<!--eofm-->"
   ]
  }
 ]
}