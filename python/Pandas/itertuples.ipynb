{
 "cells": [
  {
   "cell_type": "raw",
   "metadata": {},
   "source": [
    "---\n",
    "title: \"Pandas Itertuples 함수 활용\"\n",
    "date: 2020-03-22T20:10:47+09:00\n",
    "tags:\n",
    "  - \"Data Transformation\"\n",
    "  - \"Python\"\n",
    "  - \"Itertuples\"\n",
    "  - \"데이터 전처리\"\n",
    "  - \"Pandas\"\n",
    "categories:\n",
    "  - \"Data Transformation\"\n",
    "  - \"Python\"\n",
    "  - \"데이터 전처리\"\n",
    "menu: \n",
    "  python:\n",
    "    name: Pandas Itertuples 함수 활용\n",
    "---"
   ]
  },
  {
   "cell_type": "markdown",
   "metadata": {},
   "source": [
    "## Iterrows\n",
    "\n",
    "이번 포스팅은 `Iterrows()`의 확장개념입니다. 본 포스트를 보고 학습하시기 전에 [Pandas Iterrows 함수 활용](https://chloevan.github.io/python/pandas/iterrows/)에서 학습 하기를 바란다. \n",
    "\n",
    "## Itertuples의 개념\n",
    "\n",
    "`itertuples()`는 기본적으로 `iterrows()` 함수보다는 빠르다. "
   ]
  },
  {
   "cell_type": "code",
   "execution_count": 1,
   "metadata": {},
   "outputs": [
    {
     "name": "stdout",
     "output_type": "stream",
     "text": [
      "  Team League  Year   RS   RA   W   OBP   SLG    BA  Playoffs  RankSeason  \\\n",
      "0  ARI     NL  2012  734  688  81  0.33  0.42  0.26         0         NaN   \n",
      "1  ATL     NL  2012  700  600  94  0.32  0.39  0.25         1         4.0   \n",
      "2  BAL     AL  2012  712  705  93  0.31  0.42  0.25         1         5.0   \n",
      "3  BOS     AL  2012  734  806  69  0.32  0.41  0.26         0         NaN   \n",
      "4  CHC     NL  2012  613  759  61  0.30  0.38  0.24         0         NaN   \n",
      "\n",
      "   RankPlayoffs    G  OOBP  OSLG  \n",
      "0           NaN  162  0.32  0.41  \n",
      "1           5.0  162  0.31  0.38  \n",
      "2           4.0  162  0.32  0.40  \n",
      "3           NaN  162  0.33  0.43  \n",
      "4           NaN  162  0.34  0.42  \n"
     ]
    }
   ],
   "source": [
    "import pandas as pd\n",
    "import io\n",
    "import requests\n",
    "import pprint\n",
    "\n",
    "url = 'https://raw.githubusercontent.com/chloevan/datasets/master/sports/baseball_stats.csv'\n",
    "url=requests.get(url).content\n",
    "baseball_stats = pd.read_csv(io.StringIO(url.decode('utf-8')))\n",
    "\n",
    "pprint.pprint(baseball_stats.head())"
   ]
  },
  {
   "cell_type": "markdown",
   "metadata": {},
   "source": [
    "## 조건부 행 추출\n",
    "\n",
    "드디어 Python 데이터 분석가로 보스턴 레드박스`(BOS)`야구팀에 취직을 했다고 가정을 해보자. 단장이 2008 ~ 2010년까지의 득점과 실점의 차이를 보고 싶다고 요청을 해왔다. 이럴 때 어떻게 해야 할까? \n",
    "\n"
   ]
  },
  {
   "cell_type": "code",
   "execution_count": 4,
   "metadata": {},
   "outputs": [
    {
     "name": "stdout",
     "output_type": "stream",
     "text": [
      "  Team League  Year   RS   RA   W   OBP   SLG    BA  Playoffs  RankSeason  \\\n",
      "0  BOS     AL  2012  734  806  69  0.32  0.41  0.26         0         NaN   \n",
      "1  BOS     AL  2011  875  737  90  0.35  0.46  0.28         0         NaN   \n",
      "2  BOS     AL  2010  818  744  89  0.34  0.45  0.27         0         NaN   \n",
      "3  BOS     AL  2009  872  736  95  0.35  0.45  0.27         1         3.0   \n",
      "4  BOS     AL  2008  845  694  95  0.36  0.45  0.28         1         3.0   \n",
      "\n",
      "   RankPlayoffs    G  OOBP  OSLG  \n",
      "0           NaN  162  0.33  0.43  \n",
      "1           NaN  162  0.32  0.39  \n",
      "2           NaN  162  0.33  0.40  \n",
      "3           4.0  162  0.34  0.42  \n",
      "4           3.0  162  0.32  0.39  \n"
     ]
    }
   ],
   "source": [
    "bos_df = baseball_stats[baseball_stats.Team == \"BOS\"].reset_index(drop = True)\n",
    "pprint.pprint(bos_df.head())"
   ]
  },
  {
   "cell_type": "markdown",
   "metadata": {},
   "source": [
    "이 때, 중요한 것 중의 하나는 `.reset_index(drop = True)` 활용법인데, 기존의 행 인덱스를 제거하고 0부터 다시 시작하는 것이 특징이다. 위 표에서 보는 것처럼 `Team-BOS` 데이터만 추출 된 것을 확인할 수 있다. \n",
    "\n",
    "이제는 `Year` 컬럼에서 2008~2010년 데이터만 추출한다. "
   ]
  },
  {
   "cell_type": "code",
   "execution_count": 11,
   "metadata": {},
   "outputs": [
    {
     "name": "stdout",
     "output_type": "stream",
     "text": [
      "  Team League  Year   RS   RA   W   OBP   SLG    BA  Playoffs  RankSeason  \\\n",
      "0  BOS     AL  2010  818  744  89  0.34  0.45  0.27         0         NaN   \n",
      "1  BOS     AL  2009  872  736  95  0.35  0.45  0.27         1         3.0   \n",
      "2  BOS     AL  2008  845  694  95  0.36  0.45  0.28         1         3.0   \n",
      "\n",
      "   RankPlayoffs    G  OOBP  OSLG  \n",
      "0           NaN  162  0.33  0.40  \n",
      "1           4.0  162  0.34  0.42  \n",
      "2           3.0  162  0.32  0.39  \n"
     ]
    }
   ],
   "source": [
    "bos_year_df = bos_df[bos_df[\"Year\"].isin([2008, 2009, 2010])].reset_index(drop = True)\n",
    "pprint.pprint(bos_year_df.head())"
   ]
  },
  {
   "cell_type": "markdown",
   "metadata": {},
   "source": [
    "이번에 소개하는 함수는 `.isin()`인데, 연구자가 원하는 값만 알면 쉽게 추출할 수 있다는 장점이 있다. `R`을 사용하는 유저라면 `%in%` 함수를 기억할 것인데, 이와 매우 유사하다. "
   ]
  },
  {
   "cell_type": "markdown",
   "metadata": {},
   "source": [
    "## Data Frame과 For-loop의 실체\n",
    "\n",
    "Python DataFrame과 For-loop가 만나면 어떻게 작동을 할까? iterrows() 함수를 활용하여 실체를 한번 들여다 보자. \n",
    "먼저 각 행을 각각 추출해본다. "
   ]
  },
  {
   "cell_type": "code",
   "execution_count": 12,
   "metadata": {},
   "outputs": [
    {
     "name": "stdout",
     "output_type": "stream",
     "text": [
      "0\n",
      "Team             BOS\n",
      "League            AL\n",
      "Year            2010\n",
      "RS               818\n",
      "RA               744\n",
      "W                 89\n",
      "OBP             0.34\n",
      "SLG             0.45\n",
      "BA              0.27\n",
      "Playoffs           0\n",
      "RankSeason       NaN\n",
      "RankPlayoffs     NaN\n",
      "G                162\n",
      "OOBP            0.33\n",
      "OSLG             0.4\n",
      "Name: 0, dtype: object\n",
      "<class 'pandas.core.series.Series'>\n",
      "1\n",
      "Team             BOS\n",
      "League            AL\n",
      "Year            2009\n",
      "RS               872\n",
      "RA               736\n",
      "W                 95\n",
      "OBP             0.35\n",
      "SLG             0.45\n",
      "BA              0.27\n",
      "Playoffs           1\n",
      "RankSeason         3\n",
      "RankPlayoffs       4\n",
      "G                162\n",
      "OOBP            0.34\n",
      "OSLG            0.42\n",
      "Name: 1, dtype: object\n",
      "<class 'pandas.core.series.Series'>\n",
      "2\n",
      "Team             BOS\n",
      "League            AL\n",
      "Year            2008\n",
      "RS               845\n",
      "RA               694\n",
      "W                 95\n",
      "OBP             0.36\n",
      "SLG             0.45\n",
      "BA              0.28\n",
      "Playoffs           1\n",
      "RankSeason         3\n",
      "RankPlayoffs       3\n",
      "G                162\n",
      "OOBP            0.32\n",
      "OSLG            0.39\n",
      "Name: 2, dtype: object\n",
      "<class 'pandas.core.series.Series'>\n"
     ]
    }
   ],
   "source": [
    "for i,row in bos_year_df.iterrows():\n",
    "    print(i)\n",
    "    print(row)\n",
    "    print(type(row))"
   ]
  },
  {
   "cell_type": "markdown",
   "metadata": {},
   "source": [
    "DataFrame이 For-loop와 만나게 되면 각 loop에서 `row`의 `Return` Pandas Series 형태인 것을 확인할 수 있다. For-loop 안에서 데이터 처리를 할 때, Pandas Series 형태인 것을 감안하고 접근해야 한다는 뜻이다. "
   ]
  },
  {
   "cell_type": "code",
   "execution_count": 15,
   "metadata": {},
   "outputs": [
    {
     "name": "stdout",
     "output_type": "stream",
     "text": [
      "(0, Team             BOS\n",
      "League            AL\n",
      "Year            2010\n",
      "RS               818\n",
      "RA               744\n",
      "W                 89\n",
      "OBP             0.34\n",
      "SLG             0.45\n",
      "BA              0.27\n",
      "Playoffs           0\n",
      "RankSeason       NaN\n",
      "RankPlayoffs     NaN\n",
      "G                162\n",
      "OOBP            0.33\n",
      "OSLG             0.4\n",
      "Name: 0, dtype: object)\n",
      "<class 'tuple'>\n",
      "(1, Team             BOS\n",
      "League            AL\n",
      "Year            2009\n",
      "RS               872\n",
      "RA               736\n",
      "W                 95\n",
      "OBP             0.35\n",
      "SLG             0.45\n",
      "BA              0.27\n",
      "Playoffs           1\n",
      "RankSeason         3\n",
      "RankPlayoffs       4\n",
      "G                162\n",
      "OOBP            0.34\n",
      "OSLG            0.42\n",
      "Name: 1, dtype: object)\n",
      "<class 'tuple'>\n",
      "(2, Team             BOS\n",
      "League            AL\n",
      "Year            2008\n",
      "RS               845\n",
      "RA               694\n",
      "W                 95\n",
      "OBP             0.36\n",
      "SLG             0.45\n",
      "BA              0.28\n",
      "Playoffs           1\n",
      "RankSeason         3\n",
      "RankPlayoffs       3\n",
      "G                162\n",
      "OOBP            0.32\n",
      "OSLG            0.39\n",
      "Name: 2, dtype: object)\n",
      "<class 'tuple'>\n"
     ]
    }
   ],
   "source": [
    "for row_tuple in bos_year_df.iterrows():\n",
    "    print(row_tuple)\n",
    "    print(type(row_tuple))"
   ]
  },
  {
   "cell_type": "markdown",
   "metadata": {},
   "source": [
    "이번에는 Tuple 형태로 데이터가 Return 했다. DataFrame와 For-loop가 만나면 이렇게 다양한 객체로 다시 Return하는 것을 보았다. Tuple로 결과값을 받을지, 아니면 Series 형태로 받을지는 미리 알고 써야 데이터 처리시의 에러에 잘 대처할 수 있다. \n",
    "\n",
    "이번에는 득점과 실점을 계산한 후 기존 데이터에 다시 넣는 것을 해본다. \n",
    "\n",
    "## 득점-실점 계산"
   ]
  },
  {
   "cell_type": "code",
   "execution_count": 16,
   "metadata": {},
   "outputs": [
    {
     "name": "stdout",
     "output_type": "stream",
     "text": [
      "  Team League  Year   RS   RA   W   OBP   SLG    BA  Playoffs  RankSeason  \\\n",
      "0  BOS     AL  2010  818  744  89  0.34  0.45  0.27         0         NaN   \n",
      "1  BOS     AL  2009  872  736  95  0.35  0.45  0.27         1         3.0   \n",
      "2  BOS     AL  2008  845  694  95  0.36  0.45  0.28         1         3.0   \n",
      "\n",
      "   RankPlayoffs    G  OOBP  OSLG   RD  \n",
      "0           NaN  162  0.33  0.40   74  \n",
      "1           4.0  162  0.34  0.42  136  \n",
      "2           3.0  162  0.32  0.39  151  \n"
     ]
    }
   ],
   "source": [
    "# 함수 정의\n",
    "def calc_diff(runs_scored, runs_allowed): # runs_scored: 득점 / runs_allowed: 실점\n",
    "    run_diff = runs_scored - runs_allowed\n",
    "    return run_diff\n",
    "\n",
    "run_diffs = []\n",
    "for i,row in bos_year_df.iterrows():\n",
    "    runs_scored = row['RS']\n",
    "    runs_allowed = row['RA']\n",
    "    \n",
    "    run_diff = calc_diff(runs_scored, runs_allowed)\n",
    "    \n",
    "    run_diffs.append(run_diff)\n",
    "\n",
    "bos_year_df[\"RD\"] = run_diffs\n",
    "pprint.pprint(bos_year_df.head())"
   ]
  },
  {
   "cell_type": "markdown",
   "metadata": {},
   "source": [
    "새로운 컬럼 `RD`가 나타난 것을 확인할 수 있을 것이다. \n",
    "오늘 배운 것은 `iterrows()`을 활용한 데이터 가공(Transformation)을 배웠다. 다음 시간에는 `itertuples()` 활용법에 대해 배우도록 한다. \n",
    "\n",
    "End of Document"
   ]
  },
  {
   "cell_type": "markdown",
   "metadata": {},
   "source": [
    "<!--eofm-->"
   ]
  }
 ],
 "metadata": {
  "file_extension": ".py",
  "kernelspec": {
   "display_name": "Python 3",
   "language": "python",
   "name": "python3"
  },
  "language_info": {
   "codemirror_mode": {
    "name": "ipython",
    "version": 3
   },
   "file_extension": ".py",
   "mimetype": "text/x-python",
   "name": "python",
   "nbconvert_exporter": "python",
   "pygments_lexer": "ipython3",
   "version": "3.7.7"
  },
  "mimetype": "text/x-python",
  "name": "python",
  "npconvert_exporter": "python",
  "pygments_lexer": "ipython3",
  "version": 3
 },
 "nbformat": 4,
 "nbformat_minor": 2
}
