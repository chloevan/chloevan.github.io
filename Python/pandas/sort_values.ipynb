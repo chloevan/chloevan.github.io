{
 "cells": [
  {
   "cell_type": "markdown",
   "metadata": {},
   "source": [
    "---\n",
    "title: \"Pandas sort_values()\"\n",
    "date: 2020-04-03T20:15:47+09:00\n",
    "tags:\n",
    "  - \"Data Transformation\"\n",
    "  - \"Python\"\n",
    "  - \"sort_values\"\n",
    "  - \"데이터 전처리\"\n",
    "categories:\n",
    "  - \"Data Transformation\"\n",
    "  - \"Python\"\n",
    "  - \"데이터 전처리\"\n",
    "  - \"Pandas\"\n",
    "menu: \n",
    "  python:\n",
    "    name: Pandas sort_values()\n",
    "---\n",
    "\n",
    "## I. Overview\n",
    "\n",
    "`sort_values()` 함수는 일종의 데이터의 정렬과 연관이 있다. 어려운 내용은 아니기 때문에 빠르게 소스 코드 구현 및 확인 하도록 한다. \n",
    "\n",
    "## II. Sample Tutorial\n",
    "\n",
    "엑셀로 된 ticket_sales 데이터를 추출하도록 한다. "
   ]
  },
  {
   "cell_type": "code",
   "execution_count": 1,
   "metadata": {},
   "outputs": [
    {
     "output_type": "stream",
     "name": "stdout",
     "text": "theater_name                  movie_title ticket_type  \\\n0     Sumdance Cinemas                Harry Plotter      senior   \n1  The Empirical House  10 Things I Hate About Unix       child   \n2  The Empirical House         The Seaborn Identity       adult   \n3     Sumdance Cinemas  10 Things I Hate About Unix       adult   \n4  The Empirical House                Mamma Median!      senior   \n\n   ticket_quantity  \n0                4  \n1                2  \n2                4  \n3                2  \n4                2  \n"
    }
   ],
   "source": [
    "import pandas as pd\n",
    "\n",
    "url = 'https://github.com/chloevan/datasets/raw/master/entertainment/movie_ticket_sales.xlsx'\n",
    "sales = pd.read_excel(url)\n",
    "print(sales.head())"
   ]
  },
  {
   "cell_type": "markdown",
   "metadata": {},
   "source": [
    "데이터가 정상적으로 수집되었다면, 이제 빠르게 `Top3` 데이터를 추출하도록 해보자. 소스코드가 어렵지는 않으니, 따라하도록 해본다. "
   ]
  },
  {
   "cell_type": "code",
   "execution_count": 2,
   "metadata": {},
   "outputs": [
    {
     "name": "stdout",
     "output_type": "stream",
     "text": [
      "                      theater_name           movie_title ticket_type  \\\n",
      "0                 Sumdance Cinemas         Harry Plotter      senior   \n",
      "1                        The Frame        Kung Fu pandas       child   \n",
      "2  Richie's Famous Minimax Theatre  The Seaborn Identity       adult   \n",
      "\n",
      "   ticket_quantity  \n",
      "0                4  \n",
      "1                4  \n",
      "2                4  \n"
     ]
    }
   ],
   "source": [
    "sales_sorted = sales.sort_values('ticket_quantity', ascending=False)\n",
    "sales_sorted = sales_sorted.reset_index(drop=True)\n",
    "\n",
    "# Top3에 해당하는 행을 출력한다. \n",
    "print(sales_sorted.head(3))"
   ]
  },
  {
   "cell_type": "markdown",
   "metadata": {},
   "source": [
    "위 소스코드에서 중요한 것은 `sort_values()` 안에서 `해당 Column값을 입력한 후`에 `ascending = False`를 하게 되면 내림차순으로 정렬이 된다. 이러한 방식을 통해서 행을 출력할 수 있다. \n",
    "\n",
    "매우 쉽죠? "
   ]
  }
 ],
 "metadata": {
  "file_extension": ".py",
  "kernelspec": {
   "display_name": "Python 3",
   "language": "python",
   "name": "python3"
  },
  "language_info": {
   "codemirror_mode": {
    "name": "ipython",
    "version": 3
   },
   "file_extension": ".py",
   "mimetype": "text/x-python",
   "name": "python",
   "nbconvert_exporter": "python",
   "pygments_lexer": "ipython3",
   "version": "3.8.1-final"
  },
  "mimetype": "text/x-python",
  "name": "python",
  "npconvert_exporter": "python",
  "pygments_lexer": "ipython3",
  "version": 3
 },
 "nbformat": 4,
 "nbformat_minor": 2
}