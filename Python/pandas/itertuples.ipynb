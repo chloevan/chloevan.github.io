{
 "cells": [
  {
   "cell_type": "raw",
   "metadata": {},
   "source": [
    "---\n",
    "title: \"Pandas Itertuples 함수 활용\"\n",
    "date: 2020-03-22T20:10:47+09:00\n",
    "tags:\n",
    "  - \"Data Transformation\"\n",
    "  - \"Python\"\n",
    "  - \"Itertuples\"\n",
    "  - \"데이터 전처리\"\n",
    "  - \"Pandas\"\n",
    "categories:\n",
    "  - \"Data Transformation\"\n",
    "  - \"Python\"\n",
    "  - \"데이터 전처리\"\n",
    "menu: \n",
    "  python:\n",
    "    name: Pandas Itertuples 함수 활용\n",
    "---"
   ]
  },
  {
   "cell_type": "markdown",
   "metadata": {},
   "source": [
    "## Iterrows\n",
    "\n",
    "이번 포스팅은 `Iterrows()`의 확장개념입니다. 본 포스트를 보고 학습하시기 전에 [Pandas Iterrows 함수 활용](https://chloevan.github.io/python/pandas/iterrows/)에서 학습 하기를 바란다. \n",
    "\n",
    "## Itertuples의 개념\n",
    "\n",
    "`itertuples()`는 기본적으로 `iterrows()` 함수보다는 빠르다. "
   ]
  },
  {
   "cell_type": "code",
   "execution_count": 2,
   "metadata": {},
   "outputs": [
    {
     "name": "stdout",
     "output_type": "stream",
     "text": [
      "  Team League  Year   RS   RA   W   OBP   SLG    BA  Playoffs  RankSeason  \\\n",
      "0  ARI     NL  2012  734  688  81  0.33  0.42  0.26         0         NaN   \n",
      "1  ATL     NL  2012  700  600  94  0.32  0.39  0.25         1         4.0   \n",
      "2  BAL     AL  2012  712  705  93  0.31  0.42  0.25         1         5.0   \n",
      "3  BOS     AL  2012  734  806  69  0.32  0.41  0.26         0         NaN   \n",
      "4  CHC     NL  2012  613  759  61  0.30  0.38  0.24         0         NaN   \n",
      "\n",
      "   RankPlayoffs    G  OOBP  OSLG  \n",
      "0           NaN  162  0.32  0.41  \n",
      "1           5.0  162  0.31  0.38  \n",
      "2           4.0  162  0.32  0.40  \n",
      "3           NaN  162  0.33  0.43  \n",
      "4           NaN  162  0.34  0.42  \n"
     ]
    }
   ],
   "source": [
    "import pandas as pd\n",
    "import io\n",
    "import requests\n",
    "import pprint\n",
    "\n",
    "url = 'https://raw.githubusercontent.com/chloevan/datasets/master/sports/baseball_stats.csv'\n",
    "url=requests.get(url).content\n",
    "baseball_stats = pd.read_csv(io.StringIO(url.decode('utf-8')))\n",
    "\n",
    "pprint.pprint(baseball_stats.head())"
   ]
  },
  {
   "cell_type": "markdown",
   "metadata": {},
   "source": [
    "## 조건부 행 추출\n",
    "\n",
    "드디어 Python 데이터 분석가로 보스턴 레드박스`(BOS)`야구팀에 취직을 했다고 가정을 해보자. 단장이 2008 ~ 2010년까지의 득점과 실점의 차이를 보고 싶다고 요청을 해왔다. 이럴 때 어떻게 해야 할까? \n",
    "\n"
   ]
  },
  {
   "cell_type": "code",
   "execution_count": 3,
   "metadata": {},
   "outputs": [
    {
     "name": "stdout",
     "output_type": "stream",
     "text": [
      "  Team League  Year   RS   RA   W   OBP   SLG    BA  Playoffs  RankSeason  \\\n",
      "0  BOS     AL  2012  734  806  69  0.32  0.41  0.26         0         NaN   \n",
      "1  BOS     AL  2011  875  737  90  0.35  0.46  0.28         0         NaN   \n",
      "2  BOS     AL  2010  818  744  89  0.34  0.45  0.27         0         NaN   \n",
      "3  BOS     AL  2009  872  736  95  0.35  0.45  0.27         1         3.0   \n",
      "4  BOS     AL  2008  845  694  95  0.36  0.45  0.28         1         3.0   \n",
      "\n",
      "   RankPlayoffs    G  OOBP  OSLG  \n",
      "0           NaN  162  0.33  0.43  \n",
      "1           NaN  162  0.32  0.39  \n",
      "2           NaN  162  0.33  0.40  \n",
      "3           4.0  162  0.34  0.42  \n",
      "4           3.0  162  0.32  0.39  \n"
     ]
    }
   ],
   "source": [
    "bos_df = baseball_stats[baseball_stats.Team == \"BOS\"].reset_index(drop = True)\n",
    "pprint.pprint(bos_df.head())"
   ]
  },
  {
   "cell_type": "markdown",
   "metadata": {},
   "source": [
    "이 때, 중요한 것 중의 하나는 `.reset_index(drop = True)` 활용법인데, 기존의 행 인덱스를 제거하고 0부터 다시 시작하는 것이 특징이다. 위 표에서 보는 것처럼 `Team-BOS` 데이터만 추출 된 것을 확인할 수 있다. \n",
    "\n",
    "이제는 `Year` 컬럼에서 2008~2010년 데이터만 추출한다. "
   ]
  },
  {
   "cell_type": "code",
   "execution_count": 4,
   "metadata": {},
   "outputs": [
    {
     "name": "stdout",
     "output_type": "stream",
     "text": [
      "  Team League  Year   RS   RA   W   OBP   SLG    BA  Playoffs  RankSeason  \\\n",
      "0  BOS     AL  2010  818  744  89  0.34  0.45  0.27         0         NaN   \n",
      "1  BOS     AL  2009  872  736  95  0.35  0.45  0.27         1         3.0   \n",
      "2  BOS     AL  2008  845  694  95  0.36  0.45  0.28         1         3.0   \n",
      "\n",
      "   RankPlayoffs    G  OOBP  OSLG  \n",
      "0           NaN  162  0.33  0.40  \n",
      "1           4.0  162  0.34  0.42  \n",
      "2           3.0  162  0.32  0.39  \n"
     ]
    }
   ],
   "source": [
    "bos_year_df = bos_df[bos_df[\"Year\"].isin([2008, 2009, 2010])].reset_index(drop = True)\n",
    "pprint.pprint(bos_year_df.head())"
   ]
  },
  {
   "cell_type": "markdown",
   "metadata": {},
   "source": [
    "이번에 소개하는 함수는 `.isin()`인데, 연구자가 원하는 값만 알면 쉽게 추출할 수 있다는 장점이 있다. `R`을 사용하는 유저라면 `%in%` 함수를 기억할 것인데, 이와 매우 유사하다. \n",
    "\n",
    "## itertuples의 구조\n",
    "\n",
    "itertuples의 구조는 아래와 같다. "
   ]
  },
  {
   "cell_type": "code",
   "execution_count": 5,
   "metadata": {},
   "outputs": [
    {
     "name": "stdout",
     "output_type": "stream",
     "text": [
      "Pandas(Index=0, Team='BOS', League='AL', Year=2010, RS=818, RA=744, W=89, OBP=0.34, SLG=0.45, BA=0.27, Playoffs=0, RankSeason=nan, RankPlayoffs=nan, G=162, OOBP=0.33, OSLG=0.4)\n",
      "Pandas(Index=1, Team='BOS', League='AL', Year=2009, RS=872, RA=736, W=95, OBP=0.35, SLG=0.45, BA=0.27, Playoffs=1, RankSeason=3.0, RankPlayoffs=4.0, G=162, OOBP=0.34, OSLG=0.42)\n",
      "Pandas(Index=2, Team='BOS', League='AL', Year=2008, RS=845, RA=694, W=95, OBP=0.36, SLG=0.45, BA=0.28, Playoffs=1, RankSeason=3.0, RankPlayoffs=3.0, G=162, OOBP=0.32, OSLG=0.39)\n"
     ]
    }
   ],
   "source": [
    "for row in bos_year_df.itertuples():\n",
    "  print(row)"
   ]
  },
  {
   "cell_type": "markdown",
   "metadata": {},
   "source": [
    "`iterrows`의 `Return`값이 `Series`형태인 것에 비해, `itertuples`의 `Return`값은 `Pandas`형으로 출력 되었다. 이러한 성질을 이용해서, 이번에는 `Index`, `Year`, `G`, `W`, `Playoffs`을 각각 가져오는 `For-loop`문을 작성해본다. "
   ]
  },
  {
   "cell_type": "code",
   "execution_count": 8,
   "metadata": {},
   "outputs": [
    {
     "name": "stdout",
     "output_type": "stream",
     "text": [
      "0 2010 162 89 0\n",
      "1 2009 162 95 1\n",
      "2 2008 162 95 1\n"
     ]
    }
   ],
   "source": [
    "for row in bos_year_df.itertuples():\n",
    "  i = row.Index\n",
    "  year = row.Year\n",
    "  games = row.G\n",
    "  wins = row.W\n",
    "  playoffs = row.Playoffs\n",
    "  print(i, year, games, wins, playoffs)"
   ]
  },
  {
   "cell_type": "markdown",
   "metadata": {},
   "source": [
    "이제 여기에서 `playoffs=1` 인 조건을 줘서 데이터를 출력하도록 해본다. 여기에서 `1`은 `playoff`에 진출했다는 `Yes`의 의미이고 `0`은 진출하지 못했다는 뜻을 의미한다. "
   ]
  },
  {
   "cell_type": "code",
   "execution_count": 9,
   "metadata": {},
   "outputs": [
    {
     "name": "stdout",
     "output_type": "stream",
     "text": [
      "1 2009 162 95 1\n",
      "2 2008 162 95 1\n"
     ]
    }
   ],
   "source": [
    "for row in bos_year_df.itertuples():\n",
    "  i = row.Index\n",
    "  year = row.Year\n",
    "  games = row.G\n",
    "  wins = row.W\n",
    "  playoffs = row.Playoffs\n",
    "\n",
    "  if row.Playoffs == 1:\n",
    "    print(i, year, games, wins, playoffs)"
   ]
  },
  {
   "cell_type": "markdown",
   "metadata": {},
   "source": [
    "##  itertuples을 활용한 득점과 실점 계산\n",
    "\n",
    "이번에는 득점과 실점을 계산한 후 기존 데이터에 다시 추가하는 코드를 작성해본다. \n",
    "\n"
   ]
  },
  {
   "cell_type": "code",
   "execution_count": 10,
   "metadata": {},
   "outputs": [
    {
     "name": "stdout",
     "output_type": "stream",
     "text": [
      "  Team League  Year   RS   RA   W   OBP   SLG    BA  Playoffs  RankSeason  \\\n",
      "0  BOS     AL  2010  818  744  89  0.34  0.45  0.27         0         NaN   \n",
      "1  BOS     AL  2009  872  736  95  0.35  0.45  0.27         1         3.0   \n",
      "2  BOS     AL  2008  845  694  95  0.36  0.45  0.28         1         3.0   \n",
      "\n",
      "   RankPlayoffs    G  OOBP  OSLG   RD  \n",
      "0           NaN  162  0.33  0.40   74  \n",
      "1           4.0  162  0.34  0.42  136  \n",
      "2           3.0  162  0.32  0.39  151  \n"
     ]
    }
   ],
   "source": [
    "# 함수 정의\n",
    "def calc_diff(runs_scored, runs_allowed): # runs_scored: 득점 / runs_allowed: 실점\n",
    "    run_diff = runs_scored - runs_allowed\n",
    "    return run_diff\n",
    "\n",
    "run_diffs = []\n",
    "for row in bos_year_df.itertuples():\n",
    "    runs_scored = row.RS\n",
    "    runs_allowed = row.RA\n",
    "    \n",
    "    run_diff = calc_diff(runs_scored, runs_allowed)\n",
    "    \n",
    "    run_diffs.append(run_diff)\n",
    "\n",
    "bos_year_df[\"RD\"] = run_diffs\n",
    "pprint.pprint(bos_year_df.head())"
   ]
  },
  {
   "cell_type": "markdown",
   "metadata": {},
   "source": [
    "## iterrows vs itertuples의 속도 비교\n",
    "\n",
    "이제 iterrows Vs itertuples의 속도를 비교하는 코드를 작성해서, 향후에 어떤 구문을 쓰면 좋을지 고민해본다. \n",
    "\n",
    "우선 데이터 관측치를 조금 늘려서 확인하도록 하겠다. "
   ]
  },
  {
   "cell_type": "code",
   "execution_count": 17,
   "metadata": {},
   "outputs": [],
   "source": [
    "bos_df = baseball_stats[baseball_stats.Team == \"BOS\"].reset_index(drop = True)"
   ]
  },
  {
   "cell_type": "markdown",
   "metadata": {},
   "source": [
    "\n",
    "## (1) iterrows의 속도"
   ]
  },
  {
   "cell_type": "code",
   "execution_count": 18,
   "metadata": {},
   "outputs": [
    {
     "name": "stdout",
     "output_type": "stream",
     "text": [
      "6.47 ms ± 241 µs per loop (mean ± std. dev. of 7 runs, 100 loops each)\n"
     ]
    }
   ],
   "source": [
    "%%timeit\n",
    "\n",
    "# 함수 정의\n",
    "def calc_diff(runs_scored, runs_allowed): # runs_scored: 득점 / runs_allowed: 실점\n",
    "    run_diff = runs_scored - runs_allowed\n",
    "    return run_diff\n",
    "\n",
    "run_diffs = []\n",
    "for i,row in bos_df.iterrows():\n",
    "    runs_scored = row['RS']\n",
    "    runs_allowed = row['RA']\n",
    "    \n",
    "    run_diff = calc_diff(runs_scored, runs_allowed)\n",
    "    \n",
    "    run_diffs.append(run_diff)\n",
    "\n",
    "bos_df[\"RD\"] = run_diffs"
   ]
  },
  {
   "cell_type": "markdown",
   "metadata": {},
   "source": [
    "## (2) itertuples의 속도"
   ]
  },
  {
   "cell_type": "code",
   "execution_count": 19,
   "metadata": {},
   "outputs": [
    {
     "name": "stdout",
     "output_type": "stream",
     "text": [
      "1.57 ms ± 37.4 µs per loop (mean ± std. dev. of 7 runs, 1000 loops each)\n"
     ]
    }
   ],
   "source": [
    "%%timeit\n",
    "\n",
    "# 함수 정의\n",
    "def calc_diff(runs_scored, runs_allowed): # runs_scored: 득점 / runs_allowed: 실점\n",
    "    run_diff = runs_scored - runs_allowed\n",
    "    return run_diff\n",
    "\n",
    "run_diffs = []\n",
    "for row in bos_df.itertuples():\n",
    "    runs_scored = row.RS\n",
    "    runs_allowed = row.RA\n",
    "    \n",
    "    run_diff = calc_diff(runs_scored, runs_allowed)\n",
    "    \n",
    "    run_diffs.append(run_diff)\n",
    "\n",
    "bos_df[\"RD\"] = run_diffs"
   ]
  },
  {
   "cell_type": "markdown",
   "metadata": {},
   "source": [
    "위 속도에서 볼 수 있듯이, itertuples의 속도가 iterrows의 속도보다 약 5.00 ms 더 빠른 것을 확인 할 수 있다. \n",
    "\n",
    "다음시간에는 `apply` 함수에 대해 배워보는 시간을 갖도록 한다. \n",
    "\n",
    "End of Document"
   ]
  },
  {
   "cell_type": "markdown",
   "metadata": {},
   "source": [
    "<!--eofm-->"
   ]
  }
 ],
 "metadata": {
  "file_extension": ".py",
  "kernelspec": {
   "display_name": "Python 3",
   "language": "python",
   "name": "python3"
  },
  "language_info": {
   "codemirror_mode": {
    "name": "ipython",
    "version": 3
   },
   "file_extension": ".py",
   "mimetype": "text/x-python",
   "name": "python",
   "nbconvert_exporter": "python",
   "pygments_lexer": "ipython3",
   "version": "3.7.7"
  },
  "mimetype": "text/x-python",
  "name": "python",
  "npconvert_exporter": "python",
  "pygments_lexer": "ipython3",
  "version": 3
 },
 "nbformat": 4,
 "nbformat_minor": 2
}
