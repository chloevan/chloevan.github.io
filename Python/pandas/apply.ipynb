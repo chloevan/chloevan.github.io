{
 "cells": [
  {
   "cell_type": "raw",
   "metadata": {},
   "source": [
    "---\n",
    "title: \"Pandas Lambda Apply 함수 활용\"\n",
    "date: 2020-03-23T20:10:47+09:00\n",
    "tags:\n",
    "  - \"Data Transformation\"\n",
    "  - \"Python\"\n",
    "  - \"Apply\"\n",
    "  - \"데이터 전처리\"\n",
    "  - \"Pandas\"\n",
    "categories:\n",
    "  - \"Data Transformation\"\n",
    "  - \"Python\"\n",
    "  - \"데이터 전처리\"\n",
    "menu: \n",
    "  python:\n",
    "    name: Pandas Lambda Apply 함수 활용\n",
    "---"
   ]
  },
  {
   "cell_type": "markdown",
   "metadata": {},
   "source": [
    "## I. Iterrows, Itertuples 복습\n",
    "\n",
    "이번 포스팅은 `For-loop`의 대안에 관한 함수 `apply`에 관한 내용이다. 본 포스트를 보고 학습하시기 전에 [Pandas Iterrows 함수 활용](https://chloevan.github.io/python/pandas/iterrows/)과 [Pandas Itertuples 함수 활용](https://chloevan.github.io/python/pandas/itertuples/)에서 학습 하기를 바란다. \n",
    "\n",
    "지난시간과 마찬가지로 데이터는 동일한 것을 쓰도록 한다. "
   ]
  },
  {
   "cell_type": "code",
   "execution_count": 1,
   "metadata": {},
   "outputs": [
    {
     "name": "stdout",
     "output_type": "stream",
     "text": [
      "  Team League  Year   RS   RA   W   OBP   SLG    BA  Playoffs  RankSeason  \\\n",
      "0  ARI     NL  2012  734  688  81  0.33  0.42  0.26         0         NaN   \n",
      "1  ATL     NL  2012  700  600  94  0.32  0.39  0.25         1         4.0   \n",
      "2  BAL     AL  2012  712  705  93  0.31  0.42  0.25         1         5.0   \n",
      "3  BOS     AL  2012  734  806  69  0.32  0.41  0.26         0         NaN   \n",
      "4  CHC     NL  2012  613  759  61  0.30  0.38  0.24         0         NaN   \n",
      "\n",
      "   RankPlayoffs    G  OOBP  OSLG  \n",
      "0           NaN  162  0.32  0.41  \n",
      "1           5.0  162  0.31  0.38  \n",
      "2           4.0  162  0.32  0.40  \n",
      "3           NaN  162  0.33  0.43  \n",
      "4           NaN  162  0.34  0.42  \n"
     ]
    }
   ],
   "source": [
    "import pandas as pd\n",
    "import io\n",
    "import requests\n",
    "import pprint\n",
    "\n",
    "url = 'https://raw.githubusercontent.com/chloevan/datasets/master/sports/baseball_stats.csv'\n",
    "url=requests.get(url).content\n",
    "baseball_stats = pd.read_csv(io.StringIO(url.decode('utf-8')))\n",
    "\n",
    "pprint.pprint(baseball_stats.head())"
   ]
  },
  {
   "cell_type": "markdown",
   "metadata": {},
   "source": [
    "## II. 조건부 행 추출\n",
    "\n",
    "드디어 Python 데이터 분석가로 보스턴 레드삭스`(BOS)`야구팀에 취직을 했다고 가정을 해보자. 단장이 2008 ~ 2010년까지의 득점과 실점의 차이를 보고 싶다고 요청을 해왔다. 이럴 때 어떻게 해야 할까? "
   ]
  },
  {
   "cell_type": "code",
   "execution_count": 18,
   "metadata": {},
   "outputs": [
    {
     "name": "stdout",
     "output_type": "stream",
     "text": [
      "  Team League  Year   RS   RA   W   OBP   SLG    BA  Playoffs  RankSeason  \\\n",
      "0  BOS     AL  2012  734  806  69  0.32  0.41  0.26         0         NaN   \n",
      "1  BOS     AL  2011  875  737  90  0.35  0.46  0.28         0         NaN   \n",
      "2  BOS     AL  2010  818  744  89  0.34  0.45  0.27         0         NaN   \n",
      "3  BOS     AL  2009  872  736  95  0.35  0.45  0.27         1         3.0   \n",
      "4  BOS     AL  2008  845  694  95  0.36  0.45  0.28         1         3.0   \n",
      "\n",
      "   RankPlayoffs    G  OOBP  OSLG  \n",
      "0           NaN  162  0.33  0.43  \n",
      "1           NaN  162  0.32  0.39  \n",
      "2           NaN  162  0.33  0.40  \n",
      "3           4.0  162  0.34  0.42  \n",
      "4           3.0  162  0.32  0.39  \n"
     ]
    }
   ],
   "source": [
    "bos_df = baseball_stats[baseball_stats.Team == \"BOS\"].reset_index(drop = True)\n",
    "pprint.pprint(bos_df.head())"
   ]
  },
  {
   "cell_type": "markdown",
   "metadata": {},
   "source": [
    "이 때, 중요한 것 중의 하나는 `.reset_index(drop = True)` 활용법인데, 기존의 행 인덱스를 제거하고 0부터 다시 시작하는 것이 특징이다. 위 표에서 보는 것처럼 `Team-BOS` 데이터만 추출 된 것을 확인할 수 있다. \n",
    "\n",
    "이제는 `Year` 컬럼에서 2008~2010년 데이터만 추출한다. "
   ]
  },
  {
   "cell_type": "code",
   "execution_count": 37,
   "metadata": {},
   "outputs": [
    {
     "name": "stdout",
     "output_type": "stream",
     "text": [
      "  Team League  Year   RS   RA   W   OBP   SLG    BA  Playoffs  RankSeason  \\\n",
      "0  BOS     AL  2012  734  806  69  0.32  0.41  0.26         0         NaN   \n",
      "1  BOS     AL  2011  875  737  90  0.35  0.46  0.28         0         NaN   \n",
      "2  BOS     AL  2010  818  744  89  0.34  0.45  0.27         0         NaN   \n",
      "3  BOS     AL  2009  872  736  95  0.35  0.45  0.27         1         3.0   \n",
      "\n",
      "   RankPlayoffs    G  OOBP  OSLG  \n",
      "0           NaN  162  0.33  0.43  \n",
      "1           NaN  162  0.32  0.39  \n",
      "2           NaN  162  0.33  0.40  \n",
      "3           4.0  162  0.34  0.42  \n"
     ]
    }
   ],
   "source": [
    "bos_year_df = bos_df[bos_df[\"Year\"].isin([2009, 2010, 2011, 2012])].reset_index(drop = True)\n",
    "pprint.pprint(bos_year_df.head())"
   ]
  },
  {
   "cell_type": "markdown",
   "metadata": {},
   "source": [
    "이번에 소개하는 함수는 `.isin()`인데, 연구자가 원하는 값만 알면 쉽게 추출할 수 있다는 장점이 있다. `R`을 사용하는 유저라면 `%in%` 함수를 기억할 것인데, 이와 매우 유사하다. \n",
    "\n",
    "## III. apply 함수\n",
    "\n",
    "\n",
    "- `apply`함수에는 반드시 `특정함수(Specific Function)`가 같이 데이터프레임 적용 및 사용이 된다. \n",
    "- 이 때, `axis`에 숫자를 기입해야 하는데, `0`일 경우에는 `column` `1`일 경우네는 `rows`가 처리된다. \n",
    "- lambda function도 같이 사용된다. \n",
    "\n",
    "\n",
    "## (1) Column의 적용\n",
    "먼저, 각각의 `Column`의 합계를 모으도록 한다. Column의 합계이니, `sum`함수가 필요하며, `axis=0`을 입력했다. 이 때 주의해야 할 것이 있다면, 각 함수가 사용되는 `데이터타입`에 맞춰서 데이터 처리가 선행이 되어야 한다. 먼저 전체 `Column`에 `sum`함수를 적용해보자. 에러가 날 것이지만, 어떻게 에러가 나는지 확인하는 것도 중요하다. "
   ]
  },
  {
   "cell_type": "code",
   "execution_count": 38,
   "metadata": {},
   "outputs": [
    {
     "ename": "TypeError",
     "evalue": "unsupported operand type(s) for +: 'int' and 'str'",
     "output_type": "error",
     "traceback": [
      "\u001b[0;31m---------------------------------------------------------------------------\u001b[0m",
      "\u001b[0;31mTypeError\u001b[0m                                 Traceback (most recent call last)",
      "\u001b[0;32m<ipython-input-38-04a01c9fea4a>\u001b[0m in \u001b[0;36m<module>\u001b[0;34m\u001b[0m\n\u001b[0;32m----> 1\u001b[0;31m \u001b[0mstat_totals\u001b[0m \u001b[0;34m=\u001b[0m \u001b[0mbos_year_df\u001b[0m\u001b[0;34m.\u001b[0m\u001b[0mapply\u001b[0m\u001b[0;34m(\u001b[0m\u001b[0msum\u001b[0m\u001b[0;34m,\u001b[0m \u001b[0maxis\u001b[0m\u001b[0;34m=\u001b[0m\u001b[0;36m0\u001b[0m\u001b[0;34m)\u001b[0m\u001b[0;34m\u001b[0m\u001b[0;34m\u001b[0m\u001b[0m\n\u001b[0m\u001b[1;32m      2\u001b[0m \u001b[0mprint\u001b[0m\u001b[0;34m(\u001b[0m\u001b[0mstat_totals\u001b[0m\u001b[0;34m)\u001b[0m\u001b[0;34m\u001b[0m\u001b[0;34m\u001b[0m\u001b[0m\n",
      "\u001b[0;32m/usr/local/lib/python3.7/site-packages/pandas/core/frame.py\u001b[0m in \u001b[0;36mapply\u001b[0;34m(self, func, axis, raw, result_type, args, **kwds)\u001b[0m\n\u001b[1;32m   6876\u001b[0m             \u001b[0mkwds\u001b[0m\u001b[0;34m=\u001b[0m\u001b[0mkwds\u001b[0m\u001b[0;34m,\u001b[0m\u001b[0;34m\u001b[0m\u001b[0;34m\u001b[0m\u001b[0m\n\u001b[1;32m   6877\u001b[0m         )\n\u001b[0;32m-> 6878\u001b[0;31m         \u001b[0;32mreturn\u001b[0m \u001b[0mop\u001b[0m\u001b[0;34m.\u001b[0m\u001b[0mget_result\u001b[0m\u001b[0;34m(\u001b[0m\u001b[0;34m)\u001b[0m\u001b[0;34m\u001b[0m\u001b[0;34m\u001b[0m\u001b[0m\n\u001b[0m\u001b[1;32m   6879\u001b[0m \u001b[0;34m\u001b[0m\u001b[0m\n\u001b[1;32m   6880\u001b[0m     \u001b[0;32mdef\u001b[0m \u001b[0mapplymap\u001b[0m\u001b[0;34m(\u001b[0m\u001b[0mself\u001b[0m\u001b[0;34m,\u001b[0m \u001b[0mfunc\u001b[0m\u001b[0;34m)\u001b[0m \u001b[0;34m->\u001b[0m \u001b[0;34m\"DataFrame\"\u001b[0m\u001b[0;34m:\u001b[0m\u001b[0;34m\u001b[0m\u001b[0;34m\u001b[0m\u001b[0m\n",
      "\u001b[0;32m/usr/local/lib/python3.7/site-packages/pandas/core/apply.py\u001b[0m in \u001b[0;36mget_result\u001b[0;34m(self)\u001b[0m\n\u001b[1;32m    184\u001b[0m             \u001b[0;32mreturn\u001b[0m \u001b[0mself\u001b[0m\u001b[0;34m.\u001b[0m\u001b[0mapply_raw\u001b[0m\u001b[0;34m(\u001b[0m\u001b[0;34m)\u001b[0m\u001b[0;34m\u001b[0m\u001b[0;34m\u001b[0m\u001b[0m\n\u001b[1;32m    185\u001b[0m \u001b[0;34m\u001b[0m\u001b[0m\n\u001b[0;32m--> 186\u001b[0;31m         \u001b[0;32mreturn\u001b[0m \u001b[0mself\u001b[0m\u001b[0;34m.\u001b[0m\u001b[0mapply_standard\u001b[0m\u001b[0;34m(\u001b[0m\u001b[0;34m)\u001b[0m\u001b[0;34m\u001b[0m\u001b[0;34m\u001b[0m\u001b[0m\n\u001b[0m\u001b[1;32m    187\u001b[0m \u001b[0;34m\u001b[0m\u001b[0m\n\u001b[1;32m    188\u001b[0m     \u001b[0;32mdef\u001b[0m \u001b[0mapply_empty_result\u001b[0m\u001b[0;34m(\u001b[0m\u001b[0mself\u001b[0m\u001b[0;34m)\u001b[0m\u001b[0;34m:\u001b[0m\u001b[0;34m\u001b[0m\u001b[0;34m\u001b[0m\u001b[0m\n",
      "\u001b[0;32m/usr/local/lib/python3.7/site-packages/pandas/core/apply.py\u001b[0m in \u001b[0;36mapply_standard\u001b[0;34m(self)\u001b[0m\n\u001b[1;32m    294\u001b[0m             \u001b[0;32mtry\u001b[0m\u001b[0;34m:\u001b[0m\u001b[0;34m\u001b[0m\u001b[0;34m\u001b[0m\u001b[0m\n\u001b[1;32m    295\u001b[0m                 result = libreduction.compute_reduction(\n\u001b[0;32m--> 296\u001b[0;31m                     \u001b[0mvalues\u001b[0m\u001b[0;34m,\u001b[0m \u001b[0mself\u001b[0m\u001b[0;34m.\u001b[0m\u001b[0mf\u001b[0m\u001b[0;34m,\u001b[0m \u001b[0maxis\u001b[0m\u001b[0;34m=\u001b[0m\u001b[0mself\u001b[0m\u001b[0;34m.\u001b[0m\u001b[0maxis\u001b[0m\u001b[0;34m,\u001b[0m \u001b[0mdummy\u001b[0m\u001b[0;34m=\u001b[0m\u001b[0mdummy\u001b[0m\u001b[0;34m,\u001b[0m \u001b[0mlabels\u001b[0m\u001b[0;34m=\u001b[0m\u001b[0mlabels\u001b[0m\u001b[0;34m\u001b[0m\u001b[0;34m\u001b[0m\u001b[0m\n\u001b[0m\u001b[1;32m    297\u001b[0m                 )\n\u001b[1;32m    298\u001b[0m             \u001b[0;32mexcept\u001b[0m \u001b[0mValueError\u001b[0m \u001b[0;32mas\u001b[0m \u001b[0merr\u001b[0m\u001b[0;34m:\u001b[0m\u001b[0;34m\u001b[0m\u001b[0;34m\u001b[0m\u001b[0m\n",
      "\u001b[0;32mpandas/_libs/reduction.pyx\u001b[0m in \u001b[0;36mpandas._libs.reduction.compute_reduction\u001b[0;34m()\u001b[0m\n",
      "\u001b[0;32mpandas/_libs/reduction.pyx\u001b[0m in \u001b[0;36mpandas._libs.reduction.Reducer.get_result\u001b[0;34m()\u001b[0m\n",
      "\u001b[0;31mTypeError\u001b[0m: unsupported operand type(s) for +: 'int' and 'str'"
     ]
    }
   ],
   "source": [
    "stat_totals = bos_year_df.apply(sum, axis=0)\n",
    "print(stat_totals)"
   ]
  },
  {
   "cell_type": "markdown",
   "metadata": {},
   "source": [
    "에러가 `usupported operand type(s) for +: 'int' and 'str'` 인 것을 확인할 수 있다. 이제, 숫자형만 추출하도록 한다. 추출할 `Column`은 `RS`, `RA`, `W`, `Playoffs`이다."
   ]
  },
  {
   "cell_type": "code",
   "execution_count": 39,
   "metadata": {},
   "outputs": [
    {
     "name": "stdout",
     "output_type": "stream",
     "text": [
      "    RS   RA   W  Playoffs\n",
      "0  734  806  69         0\n",
      "1  875  737  90         0\n",
      "2  818  744  89         0\n",
      "3  872  736  95         1\n"
     ]
    }
   ],
   "source": [
    "bos_year_num_df = bos_year_df[['RS', 'RA', 'W', 'Playoffs']]\n",
    "pprint.pprint(bos_year_num_df.head())"
   ]
  },
  {
   "cell_type": "code",
   "execution_count": 40,
   "metadata": {},
   "outputs": [
    {
     "name": "stdout",
     "output_type": "stream",
     "text": [
      "RS          3299\n",
      "RA          3023\n",
      "W            343\n",
      "Playoffs       1\n",
      "dtype: int64\n"
     ]
    }
   ],
   "source": [
    "stat_totals = bos_year_num_df.apply(sum, axis=0)\n",
    "print(stat_totals)"
   ]
  },
  {
   "cell_type": "markdown",
   "metadata": {},
   "source": [
    "이렇게 각 컬럼의 전체 합계가 구해진 것을 확인할 수 있다. \n",
    "\n",
    "## (2) Row의 적용\n",
    "\n",
    "이번에는 `RS`, `RA`만 합산하는 코드를 작성해본다. 이 때 중요한 것은 `axis=1`을 입력하는 것이다. "
   ]
  },
  {
   "cell_type": "code",
   "execution_count": 41,
   "metadata": {},
   "outputs": [
    {
     "name": "stdout",
     "output_type": "stream",
     "text": [
      "0    1540\n",
      "1    1612\n",
      "2    1562\n",
      "3    1608\n",
      "dtype: int64\n"
     ]
    }
   ],
   "source": [
    "total_runs = bos_year_num_df[['RS', 'RA']].apply(sum, axis=1)\n",
    "print(total_runs)"
   ]
  },
  {
   "cell_type": "markdown",
   "metadata": {},
   "source": [
    "각각의 합산된 결과값이 나왔다. \n",
    "\n",
    "이번에는 `playoffs`의 조건에 따라 `return` 값을 바꾸는 것을 해본다. 이번에 나오는 소스코드는 __데이터처리 할 때 자주 쓰는 구문__ 이므로 반드시 익히도록 한다. \n",
    "\n",
    "먼저, 조건 함수를 작성한다."
   ]
  },
  {
   "cell_type": "code",
   "execution_count": 25,
   "metadata": {},
   "outputs": [],
   "source": [
    "def text_playoffs(num_playoffs): \n",
    "    if num_playoffs == 1:\n",
    "        return 'Yes'\n",
    "    else:\n",
    "        return 'No' "
   ]
  },
  {
   "cell_type": "markdown",
   "metadata": {},
   "source": [
    "각 행마다 `1`인지 `0`인지 확인 후 `Text`가 바뀌어야 하기 때문에, 이 때에는 `.apply(lambda row: function(row[\"name_of_column\"]), axis=1)` 형태로 작성하도록 한다. "
   ]
  },
  {
   "cell_type": "code",
   "execution_count": 42,
   "metadata": {},
   "outputs": [
    {
     "name": "stdout",
     "output_type": "stream",
     "text": [
      "0     No\n",
      "1     No\n",
      "2     No\n",
      "3    Yes\n",
      "dtype: object\n"
     ]
    }
   ],
   "source": [
    "convert_playoffs = bos_year_num_df.apply(lambda row: text_playoffs(row['Playoffs']), axis=1)\n",
    "print(convert_playoffs)"
   ]
  },
  {
   "cell_type": "markdown",
   "metadata": {},
   "source": [
    "`Numeric`이 `Character`로 바뀌어진 것을 확인할 수 있다. "
   ]
  },
  {
   "cell_type": "markdown",
   "metadata": {},
   "source": [
    "## IV. apply 활용한 시즌별 승률 계산\n",
    "\n",
    "이번에는 승률 함수(`wp_calc`)를 작성한 후, 팀의 승률을 계산한 것을 기존 데이터프레임(`bos_year_df`)에 추가하는 것을 작업을 해본다. "
   ]
  },
  {
   "cell_type": "code",
   "execution_count": 45,
   "metadata": {},
   "outputs": [
    {
     "name": "stdout",
     "output_type": "stream",
     "text": [
      "0    0.43\n",
      "1    0.56\n",
      "2    0.55\n",
      "3    0.59\n",
      "dtype: float64 \n",
      "\n"
     ]
    }
   ],
   "source": [
    "# 함수 정의\n",
    "import numpy as np\n",
    "\n",
    "def wp_cal(wins, games_played):\n",
    "    win_perc = wins / games_played\n",
    "    return np.round(win_perc,2)\n",
    "\n",
    "win_percs = bos_year_df.apply(lambda row: wp_cal(row['W'], row['G']), axis=1)\n",
    "print(win_percs, '\\n')"
   ]
  },
  {
   "cell_type": "code",
   "execution_count": 48,
   "metadata": {},
   "outputs": [
    {
     "name": "stdout",
     "output_type": "stream",
     "text": [
      "  Team League  Year   RS   RA   W   OBP   SLG    BA  Playoffs  RankSeason  \\\n",
      "0  BOS     AL  2012  734  806  69  0.32  0.41  0.26         0         NaN   \n",
      "\n",
      "   RankPlayoffs    G  OOBP  OSLG    WP  \n",
      "0           NaN  162  0.33  0.43  0.43  \n"
     ]
    }
   ],
   "source": [
    "# bos_year_df에 `WP` 칼럼 추가\n",
    "bos_year_df['WP'] = win_percs\n",
    "\n",
    "# 여기에서 승률이 0.5 이하인 것을 구하면\n",
    "print(bos_year_df[bos_year_df['WP'] <= 0.50])"
   ]
  },
  {
   "cell_type": "markdown",
   "metadata": {},
   "source": [
    "## V. iterrows Vs. itertuples Vs. apply 의 속도 비교\n",
    "\n",
    "이제 iterrows Vs itertuples Vs apply의 속도를 비교하는 코드를 작성해서, 향후에 어떤 구문을 쓰면 좋을지 고민해본다. \n",
    "\n",
    "우선 데이터 관측치를 조금 늘려서 확인하도록 하겠다. "
   ]
  },
  {
   "cell_type": "code",
   "execution_count": 49,
   "metadata": {},
   "outputs": [],
   "source": [
    "bos_df = baseball_stats[baseball_stats.Team == \"BOS\"].reset_index(drop = True)"
   ]
  },
  {
   "cell_type": "markdown",
   "metadata": {},
   "source": [
    "\n",
    "## (1) iterrows의 속도"
   ]
  },
  {
   "cell_type": "code",
   "execution_count": 54,
   "metadata": {},
   "outputs": [
    {
     "name": "stdout",
     "output_type": "stream",
     "text": [
      "6.51 ms ± 413 µs per loop (mean ± std. dev. of 7 runs, 100 loops each)\n"
     ]
    }
   ],
   "source": [
    "%%timeit\n",
    "\n",
    "# 함수 정의\n",
    "def calc_diff(runs_scored, runs_allowed): # runs_scored: 득점 / runs_allowed: 실점\n",
    "    run_diff = runs_scored - runs_allowed\n",
    "    return run_diff\n",
    "\n",
    "run_diffs = []\n",
    "for i,row in bos_df.iterrows():\n",
    "    runs_scored = row['RS']\n",
    "    runs_allowed = row['RA']\n",
    "    \n",
    "    run_diff = calc_diff(runs_scored, runs_allowed)\n",
    "    \n",
    "    run_diffs.append(run_diff)\n",
    "\n",
    "bos_df[\"RD\"] = run_diffs"
   ]
  },
  {
   "cell_type": "markdown",
   "metadata": {},
   "source": [
    "## (2) itertuples의 속도"
   ]
  },
  {
   "cell_type": "code",
   "execution_count": 55,
   "metadata": {},
   "outputs": [
    {
     "name": "stdout",
     "output_type": "stream",
     "text": [
      "1.71 ms ± 99.1 µs per loop (mean ± std. dev. of 7 runs, 1000 loops each)\n"
     ]
    }
   ],
   "source": [
    "%%timeit\n",
    "\n",
    "# 함수 정의\n",
    "def calc_diff(runs_scored, runs_allowed): # runs_scored: 득점 / runs_allowed: 실점\n",
    "    run_diff = runs_scored - runs_allowed\n",
    "    return run_diff\n",
    "\n",
    "run_diffs = []\n",
    "for row in bos_df.itertuples():\n",
    "    runs_scored = row.RS\n",
    "    runs_allowed = row.RA\n",
    "    \n",
    "    run_diff = calc_diff(runs_scored, runs_allowed)\n",
    "    \n",
    "    run_diffs.append(run_diff)\n",
    "\n",
    "bos_df[\"RD\"] = run_diffs"
   ]
  },
  {
   "cell_type": "markdown",
   "metadata": {},
   "source": [
    "## (3) apply의 속도 "
   ]
  },
  {
   "cell_type": "code",
   "execution_count": 56,
   "metadata": {},
   "outputs": [
    {
     "name": "stdout",
     "output_type": "stream",
     "text": [
      "2.6 ms ± 121 µs per loop (mean ± std. dev. of 7 runs, 100 loops each)\n"
     ]
    }
   ],
   "source": [
    "%%timeit\n",
    "\n",
    "# 함수 정의\n",
    "def calc_diff(runs_scored, runs_allowed): # runs_scored: 득점 / runs_allowed: 실점\n",
    "    run_diff = runs_scored - runs_allowed\n",
    "    return run_diff\n",
    "\n",
    "run_diffs_apply = bos_df.apply(lambda row: calc_diff(row['RS'], row['RA']),axis=1)\n",
    "bos_df['RD'] = run_diffs_apply"
   ]
  },
  {
   "cell_type": "markdown",
   "metadata": {},
   "source": [
    "위 속도에서 볼 수 있듯이, `apply`의 함수가 `iterrows`의 속도가 약 5.00 ms 더 빠른 것을 확인 할 수 있다. 그러나 `itertuples`에 비해서는 꼭 엄청 빠르다고는 할 수 없다.  \n",
    "\n",
    "사실 이것은 조금 의외의 결과이기는 했다. 어떻게 받아 들여야 할지.. 그러나 확실한 것은 `iterrows`보다는 속도가 빠르다는 점과, `itertuples`보다는 코드가 훨씬 간결해졌다는 점은 `apply`의 함수가 보다 매력적인 것은 확신할 수 있다. \n",
    "\n",
    "\n",
    "## V. Reference\n",
    "pandas.DataFrame.apply¶. (n.d.). Retrieved March 23, 2020, from https://pandas.pydata.org/pandas-docs/stable/reference/api/pandas.DataFrame.apply.html\n",
    "\n",
    "End of Document"
   ]
  },
  {
   "cell_type": "markdown",
   "metadata": {},
   "source": [
    "<!--eofm-->"
   ]
  }
 ],
 "metadata": {
  "file_extension": ".py",
  "kernelspec": {
   "display_name": "Python 3",
   "language": "python",
   "name": "python3"
  },
  "language_info": {
   "codemirror_mode": {
    "name": "ipython",
    "version": 3
   },
   "file_extension": ".py",
   "mimetype": "text/x-python",
   "name": "python",
   "nbconvert_exporter": "python",
   "pygments_lexer": "ipython3",
   "version": "3.7.7"
  },
  "mimetype": "text/x-python",
  "name": "python",
  "npconvert_exporter": "python",
  "pygments_lexer": "ipython3",
  "version": 3
 },
 "nbformat": 4,
 "nbformat_minor": 2
}
